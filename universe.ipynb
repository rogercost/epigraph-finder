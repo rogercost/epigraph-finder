{
  "nbformat": 4,
  "nbformat_minor": 0,
  "metadata": {
    "colab": {
      "provenance": [],
      "authorship_tag": "ABX9TyNq6Qqz3jM3FHbbMT27FZzK",
      "include_colab_link": true
    },
    "kernelspec": {
      "name": "python3",
      "display_name": "Python 3"
    },
    "language_info": {
      "name": "python"
    }
  },
  "cells": [
    {
      "cell_type": "markdown",
      "metadata": {
        "id": "view-in-github",
        "colab_type": "text"
      },
      "source": [
        "<a href=\"https://colab.research.google.com/github/rogercost/epigraph-finder/blob/main/universe.ipynb\" target=\"_parent\"><img src=\"https://colab.research.google.com/assets/colab-badge.svg\" alt=\"Open In Colab\"/></a>"
      ]
    },
    {
      "cell_type": "markdown",
      "source": [
        "# Build the Epigraph Universe\n",
        "The workflow is:\n",
        "1. Scrape Project Gutenberg for all poetry URLs\n",
        "2. Invoke Gemini for each poem to extract potential epigraphs"
      ],
      "metadata": {
        "id": "arnDERfb1-gh"
      }
    },
    {
      "cell_type": "code",
      "execution_count": null,
      "metadata": {
        "id": "7Ju3fPvL16CW"
      },
      "outputs": [],
      "source": [
        "import requests\n",
        "from bs4 import BeautifulSoup\n",
        "import time\n",
        "import os.path"
      ]
    },
    {
      "cell_type": "code",
      "source": [
        "# Function to get book links from a page\n",
        "def get_book_links(page_url):\n",
        "    response = requests.get(page_url)\n",
        "    response.raise_for_status()\n",
        "    soup = BeautifulSoup(response.content, 'html.parser')\n",
        "    book_links = soup.select('a.link')\n",
        "    poetry_books = [link.get('href') for link in book_links if 'ebooks' in link.get('href')]\n",
        "    return poetry_books, soup\n",
        "\n",
        "# Function to get the next page URL\n",
        "def get_next_page_url(soup):\n",
        "    next_link = soup.find('a', string='Next')\n",
        "    if next_link:\n",
        "        return f\"https://www.gutenberg.org{next_link.get('href')}\"\n",
        "    return None"
      ],
      "metadata": {
        "id": "cLNvJP715XCD"
      },
      "execution_count": null,
      "outputs": []
    },
    {
      "cell_type": "code",
      "source": [
        "# Initial URL of Project Gutenberg poetry section\n",
        "base_url = \"https://www.gutenberg.org/ebooks/bookshelf/60\"\n",
        "\n",
        "all_poetry_books = []\n",
        "current_url = base_url\n",
        "\n",
        "while current_url:\n",
        "    # Get book links and the soup object for the current page\n",
        "    print(f\"Gathering links from {current_url}...\")\n",
        "    book_links, soup = get_book_links(current_url)\n",
        "    all_poetry_books.extend(book_links)\n",
        "\n",
        "    # Get the next page URL\n",
        "    current_url = get_next_page_url(soup)\n",
        "\n",
        "    # Sleep to avoid overwhelming the server\n",
        "    time.sleep(1)\n",
        "\n",
        "# Remove duplicates by converting the list to a set and back to a list\n",
        "all_poetry_books = list(set(all_poetry_books))\n",
        "print(f\"Downloaded {len(all_poetry_books)} poetry book URLs, e.g. {all_poetry_books[0]}\")"
      ],
      "metadata": {
        "colab": {
          "base_uri": "https://localhost:8080/"
        },
        "id": "_BYLib3U5hdP",
        "outputId": "b0282fde-c546-42f7-f7b7-9e562d6d70fd"
      },
      "execution_count": null,
      "outputs": [
        {
          "output_type": "stream",
          "name": "stdout",
          "text": [
            "Gathering links from https://www.gutenberg.org/ebooks/bookshelf/60...\n",
            "Gathering links from https://www.gutenberg.org/ebooks/bookshelf/60?start_index=26...\n",
            "Gathering links from https://www.gutenberg.org/ebooks/bookshelf/60?start_index=51...\n",
            "Gathering links from https://www.gutenberg.org/ebooks/bookshelf/60?start_index=76...\n",
            "Downloaded 98 poetry book URLs, e.g. /ebooks/53385\n"
          ]
        }
      ]
    },
    {
      "cell_type": "code",
      "source": [
        "from google.colab import drive\n",
        "drive.mount('/content/gdrive')\n",
        "!mkdir -p \"/content/gdrive/My Drive/poems\"\n",
        "!echo \"Disgusting Gus, scissors cut\" > \"/content/gdrive/My Drive/poems/example_poem.txt\""
      ],
      "metadata": {
        "colab": {
          "base_uri": "https://localhost:8080/"
        },
        "id": "7-tcWEd17aLb",
        "outputId": "5017330d-2f4f-47f3-ef73-ff3e8d19163c"
      },
      "execution_count": null,
      "outputs": [
        {
          "output_type": "stream",
          "name": "stdout",
          "text": [
            "Drive already mounted at /content/gdrive; to attempt to forcibly remount, call drive.mount(\"/content/gdrive\", force_remount=True).\n"
          ]
        }
      ]
    },
    {
      "cell_type": "code",
      "source": [
        "def extract_title_author(text):\n",
        "    title = None\n",
        "    author = None\n",
        "\n",
        "    lines = text.splitlines()\n",
        "    for line in lines:\n",
        "        if line.startswith(\"Title: \"):\n",
        "            title = line.replace(\"Title: \", \"\").strip()\n",
        "        elif line.startswith(\"Author: \"):\n",
        "            author = line.replace(\"Author: \", \"\").strip()\n",
        "        elif line.startswith(\"Editor: \"):\n",
        "            author = line.replace(\"Editor: \", \"\").strip()\n",
        "        if title and author:\n",
        "            break\n",
        "\n",
        "    if not author:\n",
        "        author = \"Unknown\"\n",
        "    return title, author"
      ],
      "metadata": {
        "id": "Zhtt2oN79PHv"
      },
      "execution_count": null,
      "outputs": []
    },
    {
      "cell_type": "code",
      "source": [
        "# Iterate over each book link and download the content\n",
        "for book_link in all_poetry_books:\n",
        "    book_url = f\"https://www.gutenberg.org{book_link}\"\n",
        "    book_response = requests.get(book_url)\n",
        "    book_response.raise_for_status()\n",
        "\n",
        "    book_soup = BeautifulSoup(book_response.content, 'html.parser')\n",
        "    download_links = book_soup.select('a.link')\n",
        "\n",
        "    for download_link in download_links:\n",
        "        if 'txt' in download_link.get('href'):\n",
        "            download_url = f\"https://www.gutenberg.org{download_link.get('href')}\"\n",
        "            book_content = requests.get(download_url).text\n",
        "\n",
        "            title, author = extract_title_author(book_content)\n",
        "            title = title.replace(\" \", \"_\")\n",
        "            author = author.replace(\" \", \"_\")\n",
        "            filename = f\"{title}__by_{author}.txt\"\n",
        "            full_filename = f\"/content/gdrive/My Drive/poems/{filename}\"\n",
        "\n",
        "            # Save or process the book content as needed\n",
        "            with open(full_filename, 'w') as file:\n",
        "                file.write(book_content)\n",
        "                file.write(\"\\n\\n\")\n",
        "\n",
        "            print(f\"Wrote poem file: {filename}\")\n",
        "            break  # Break after the first text format link is found\n",
        "\n",
        "        time.sleep(1)\n",
        "\n",
        "print(f\"Total poetry books found: {len(all_poetry_books)}\")"
      ],
      "metadata": {
        "colab": {
          "base_uri": "https://localhost:8080/"
        },
        "id": "ue3CA3Zl2ZIR",
        "outputId": "df1a51f3-b493-4ac6-be45-fe901a1f3886"
      },
      "execution_count": null,
      "outputs": [
        {
          "output_type": "stream",
          "name": "stdout",
          "text": [
            "Wrote poem file: For_Your_Sweet_Sake:_Poems__by_James_E._McGirt.txt\n",
            "Wrote poem file: La_Divina_Commedia_di_Dante__by_Dante_Alighieri.txt\n",
            "Wrote poem file: The_Golden_Treasury_of_American_Songs_and_Lyrics__by_Frederic_Lawrence_Knowles.txt\n",
            "Wrote poem file: Sappho:_One_Hundred_Lyrics__by_Bliss_Carman.txt\n",
            "Wrote poem file: Sir_Gawayne_and_the_Green_Knight__by_Richard_Morris.txt\n",
            "Wrote poem file: The_Works_of_Horace__by_Horace.txt\n",
            "Wrote poem file: Poems_by_Walt_Whitman__by_Walt_Whitman.txt\n",
            "Wrote poem file: Select_Poems_of_Sidney_Lanier__by_Sidney_Lanier.txt\n",
            "Wrote poem file: The_Works_of_Lord_Byron._Vol._2__by_Baron_George_Gordon_Byron_Byron.txt\n",
            "Wrote poem file: Amores:_Poems__by_D._H._Lawrence.txt\n",
            "Wrote poem file: The_Complete_Poetical_Works_of_Percy_Bysshe_Shelley_—_Complete__by_Percy_Bysshe_Shelley.txt\n",
            "Wrote poem file: The_Song_of_Hiawatha__by_Henry_Wadsworth_Longfellow.txt\n",
            "Wrote poem file: A_Dome_of_Many-Coloured_Glass__by_Amy_Lowell.txt\n",
            "Wrote poem file: Les_poésies_de_Sapho_de_Lesbos__by_Sappho.txt\n",
            "Wrote poem file: The_Vision_of_Sir_Launfal__by_James_Russell_Lowell.txt\n",
            "Wrote poem file: Poems_Chiefly_from_Manuscript__by_John_Clare.txt\n",
            "Wrote poem file: The_Works_of_Lord_Byron._Vol._3__by_Baron_George_Gordon_Byron_Byron.txt\n",
            "Wrote poem file: Keats:_Poems_Published_in_1820__by_John_Keats.txt\n",
            "Wrote poem file: Original_sonnets_on_various_subjects;_and_odes_paraphrased_from_Horace__by_Anna_Seward.txt\n",
            "Wrote poem file: Freedom,_Truth_and_Beauty__by_Edward_Doyle.txt\n",
            "Wrote poem file: Lyrics_of_Earth__by_Archibald_Lampman.txt\n",
            "Wrote poem file: Alcyone__by_Archibald_Lampman.txt\n",
            "Wrote poem file: The_Poems_of_Sidney_Lanier__by_Sidney_Lanier.txt\n",
            "Wrote poem file: The_Complete_Poetical_Works_of_James_Russell_Lowell__by_James_Russell_Lowell.txt\n",
            "Wrote poem file: Os_Lusíadas__by_Luís_de_Camões.txt\n",
            "Wrote poem file: Some_Imagist_Poets:_An_Anthology__by_Richard_Aldington.txt\n",
            "Wrote poem file: The_Complete_Works_of_Robert_Burns:_Containing_his_Poems,_Songs,_and_Correspondence.__by_Robert_Burns.txt\n",
            "Wrote poem file: A_Treasury_of_War_Poetry:_British_and_American_Poems_of_the_World_War_1914-1917__by_George_Herbert_Clarke.txt\n",
            "Wrote poem file: The_World's_Best_Poetry,_Volume_08:_National_Spirit__by_Bliss_Carman.txt\n",
            "Wrote poem file: Pastoral_Poems_by_Nicholas_Breton,_Selected_Poetry_by_George_Wither,_and_Pastoral_Poetry_by_William_Browne_(of_Tavistock)__by_Nicholas_Breton.txt\n",
            "Wrote poem file: The_Rowley_Poems__by_Thomas_Chatterton.txt\n",
            "Wrote poem file: The_World's_Best_Poetry,_Volume_04:_The_Higher_Life__by_Bliss_Carman.txt\n",
            "Wrote poem file: The_Tale_of_Beowulf,_Sometime_King_of_the_Folk_of_the_Weder_Geats__by_Unknown.txt\n",
            "Wrote poem file: Poems_by_Jean_Ingelow,_In_Two_Volumes,_Volume_I.__by_Jean_Ingelow.txt\n",
            "Wrote poem file: Lamia__by_John_Keats.txt\n",
            "Wrote poem file: Among_the_Millet_and_Other_Poems__by_Archibald_Lampman.txt\n",
            "Wrote poem file: Japanese_Prints__by_John_Gould_Fletcher.txt\n",
            "Wrote poem file: The_World's_Best_Poetry,_Volume_03:_Sorrow_and_Consolation__by_Bliss_Carman.txt\n",
            "Wrote poem file: The_Works_of_Lord_Byron._Vol._4__by_Baron_George_Gordon_Byron_Byron.txt\n",
            "Wrote poem file: The_Carmina_of_Caius_Valerius_Catullus__by_Gaius_Valerius_Catullus.txt\n",
            "Wrote poem file: Poems_1817__by_John_Keats.txt\n",
            "Wrote poem file: Dreams_and_Days:_Poems__by_George_Parsons_Lathrop.txt\n",
            "Wrote poem file: The_New_Morning:_Poems__by_Alfred_Noyes.txt\n",
            "Wrote poem file: Poems_by_Jean_Ingelow,_In_Two_Volumes,_Volume_II.__by_Jean_Ingelow.txt\n",
            "Wrote poem file: Collected_Poems_1897_-_1907,_by_Henry_Newbolt__by_Sir_Henry_John_Newbolt.txt\n",
            "Wrote poem file: Beowulf__by_Unknown.txt\n",
            "Wrote poem file: The_Iliad_of_Homer__by_Homer.txt\n",
            "Wrote poem file: I._Beówulf:_an_Anglo-Saxon_poem._II._The_fight_at_Finnsburh:_a_fragment.__by_James_A._Harrison.txt\n",
            "Wrote poem file: The_Wreck_of_the_Hesperus__by_Henry_Wadsworth_Longfellow.txt\n",
            "Wrote poem file: A_Dark_Month__by_Algernon_Charles_Swinburne.txt\n",
            "Wrote poem file: Poems_and_Ballads_(Third_Series)__by_Algernon_Charles_Swinburne.txt\n",
            "Wrote poem file: Sword_Blades_and_Poppy_Seed__by_Amy_Lowell.txt\n",
            "Wrote poem file: Sonnets,_and_Sonnets_on_English_Dramatic_Poets_(1590-1650)__by_Algernon_Charles_Swinburne.txt\n",
            "Wrote poem file: Song_of_Myself_Selections__by_Walt_Whitman.txt\n",
            "Wrote poem file: Rose_and_Roof-Tree_—_Poems__by_George_Parsons_Lathrop.txt\n",
            "Wrote poem file: Evangeline__by_Henry_Wadsworth_Longfellow.txt\n",
            "Wrote poem file: Lays_of_Ancient_Rome__by_Baron_Thomas_Babington_Macaulay_Macaulay.txt\n",
            "Wrote poem file: Hymen__by_H._D..txt\n",
            "Wrote poem file: Sea_Garden__by_H._D..txt\n",
            "Wrote poem file: A_Channel_Passage_and_Other_Poems__by_Algernon_Charles_Swinburne.txt\n",
            "Wrote poem file: The_Works_of_Lord_Byron._Vol._5__by_Baron_George_Gordon_Byron_Byron.txt\n",
            "Wrote poem file: Songs_and_Other_Verse__by_Eugene_Field.txt\n",
            "Wrote poem file: Love-Songs_of_Childhood__by_Eugene_Field.txt\n",
            "Wrote poem file: Leaves_of_Grass__by_Walt_Whitman.txt\n",
            "Wrote poem file: The_Vision_of_Sir_Launfal__by_James_Russell_Lowell.txt\n",
            "Wrote poem file: The_Aeneid__by_Virgil.txt\n",
            "Wrote poem file: Odes_d'Anacréon__by_Anacreon.txt\n",
            "Wrote poem file: The_Waste_Land__by_T._S._Eliot.txt\n",
            "Wrote poem file: Collected_Poems_1901-1918_in_Two_Volumes._Volume_I.__by_Walter_De_la_Mare.txt\n",
            "Wrote poem file: A_Mother's_Year_Book__by_Francis_McKinnon_Morton.txt\n",
            "Wrote poem file: Collected_Poems_1901-1918_in_Two_Volumes._Volume_II.__by_Walter_De_la_Mare.txt\n",
            "Wrote poem file: Men,_Women_and_Ghosts__by_Amy_Lowell.txt\n",
            "Wrote poem file: Songs_of_the_Springtides_and_Birthday_Ode__by_Algernon_Charles_Swinburne.txt\n",
            "Wrote poem file: The_World's_Best_Poetry,_Volume_10:_Poetical_Quotations__by_Bliss_Carman.txt\n",
            "Wrote poem file: Poems__by_T._S._Eliot.txt\n",
            "Wrote poem file: Astrophel_and_Other_Poems__by_Algernon_Charles_Swinburne.txt\n",
            "Wrote poem file: Leaves_of_Grass__by_Walt_Whitman.txt\n",
            "Wrote poem file: Drum-Taps__by_Walt_Whitman.txt\n",
            "Wrote poem file: The_Works_of_Lord_Byron,_Vol._7._Poetry__by_Baron_George_Gordon_Byron_Byron.txt\n",
            "Wrote poem file: When_Lilacs_Last_in_the_Dooryard_Bloom'd__by_Walt_Whitman.txt\n",
            "Wrote poem file: The_Odyssey_of_Homer__by_Homer.txt\n",
            "Wrote poem file: Endymion:_A_Poetic_Romance__by_John_Keats.txt\n",
            "Wrote poem file: The_Golden_Treasury__by_Francis_Turner_Palgrave.txt\n",
            "Wrote poem file: Evangeline:_A_Tale_of_Acadie__by_Henry_Wadsworth_Longfellow.txt\n",
            "Wrote poem file: The_Collected_Poems_of_Rupert_Brooke__by_Rupert_Brooke.txt\n",
            "Wrote poem file: Paradise_Lost__by_John_Milton.txt\n",
            "Wrote poem file: Death_Be_Not_Proud__by_John_Donne.txt\n",
            "Wrote poem file: Occoneechee,_the_Maid_of_the_Mystic_Lake__by_Robert_Frank_Jarrett.txt\n",
            "Wrote poem file: Beowulf:_An_Anglo-Saxon_Epic_Poem__by_Unknown.txt\n",
            "Wrote poem file: To_His_Coy_Mistress__by_Andrew_Marvell.txt\n",
            "Wrote poem file: The_Metamorphoses_of_Publius_Ovidus_Naso_in_English_blank_verse_Vols._I_&_II__by_Ovid.txt\n",
            "Wrote poem file: The_Complete_Poetical_Works_of_Henry_Wadsworth_Longfellow__by_Henry_Wadsworth_Longfellow.txt\n",
            "Wrote poem file: The_Visions_of_England__by_Francis_Turner_Palgrave.txt\n",
            "Wrote poem file: Lyrical_Ballads,_With_a_Few_Other_Poems_(1798)__by_William_Wordsworth.txt\n",
            "Wrote poem file: A_Little_Book_of_Western_Verse__by_Eugene_Field.txt\n",
            "Total poetry books found: 98\n"
          ]
        }
      ]
    },
    {
      "cell_type": "code",
      "source": [
        "# Now we have all content downloaded to Drive. Next step will be to chunk and process each file.\n",
        "# 1. Break the file content into chunks, size TBD (check Gemini max window size) with some overlap.\n",
        "# 2. For each chunk, prompt Gemini to pull out potential epigraphs, and poem subtitle. (Experiment with this prompt, also research various methodologies)\n",
        "# 3. Write epigraphs into a tabular structure with columns for title, author, poem subtitle.\n",
        "# 4. Load into a FAISS structure (see stanzas.ipynb)"
      ],
      "metadata": {
        "id": "gbCq3nw69X_3"
      },
      "execution_count": null,
      "outputs": []
    }
  ]
}